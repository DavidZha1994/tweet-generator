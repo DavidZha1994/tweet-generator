{
 "cells": [
  {
   "cell_type": "code",
   "execution_count": 2,
   "metadata": {},
   "outputs": [],
   "source": [
    "import pandas as pd\n",
    "import numpy as np"
   ]
  },
  {
   "cell_type": "code",
   "execution_count": 5,
   "metadata": {},
   "outputs": [],
   "source": [
    "_1 = pd.read_csv('./dataset/2021.csv')"
   ]
  },
  {
   "cell_type": "code",
   "execution_count": 8,
   "metadata": {},
   "outputs": [
    {
     "data": {
      "text/plain": [
       "0                                       @roshanpateI 🤣 $7\n",
       "1                  @tesla_raj Many UI improvements coming\n",
       "2       @CSmithson80 @heydave7 @BLKMDL3 @mims This cha...\n",
       "3       @BLKMDL3 @mims Predicting macroeconomics is ch...\n",
       "4       @mims If history is any guide, not many will m...\n",
       "                              ...                        \n",
       "3110    @flcnhvy Tesla is responsible for 2/3 of all t...\n",
       "3111    So proud of the Tesla team for achieving this ...\n",
       "3112    @newscientist Um, we have giant fusion reactor...\n",
       "3113    @comma_ai Tesla Full Self-Driving will work at...\n",
       "3114    @PPathole Dojo isn’t needed, but will make sel...\n",
       "Name: tweet, Length: 3115, dtype: object"
      ]
     },
     "execution_count": 8,
     "metadata": {},
     "output_type": "execute_result"
    }
   ],
   "source": [
    "_1[\"tweet\"]"
   ]
  }
 ],
 "metadata": {
  "interpreter": {
   "hash": "fb9ea304ca68fbfc19affe805a8a9d4b603c52f992c37f77b5b27fb8ddc210fc"
  },
  "kernelspec": {
   "display_name": "Python 3.8.13 ('NLP')",
   "language": "python",
   "name": "python3"
  },
  "language_info": {
   "codemirror_mode": {
    "name": "ipython",
    "version": 3
   },
   "file_extension": ".py",
   "mimetype": "text/x-python",
   "name": "python",
   "nbconvert_exporter": "python",
   "pygments_lexer": "ipython3",
   "version": "3.8.13"
  },
  "orig_nbformat": 4
 },
 "nbformat": 4,
 "nbformat_minor": 2
}
