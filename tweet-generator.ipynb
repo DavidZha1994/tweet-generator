{
 "cells": [
  {
   "cell_type": "code",
   "execution_count": 1,
   "metadata": {
    "pycharm": {
     "name": "#%%\n"
    }
   },
   "outputs": [],
   "source": [
    "import pandas as pd\n",
    "import numpy as np"
   ]
  },
  {
   "cell_type": "code",
   "execution_count": 5,
   "metadata": {
    "pycharm": {
     "name": "#%%\n"
    }
   },
   "outputs": [],
   "source": [
    "_1 = pd.read_csv('./dataset/2021.csv')"
   ]
  },
  {
   "cell_type": "code",
   "execution_count": 8,
   "metadata": {
    "pycharm": {
     "name": "#%%\n"
    }
   },
   "outputs": [
    {
     "data": {
      "text/plain": [
       "0                                       @roshanpateI 🤣 $7\n",
       "1                  @tesla_raj Many UI improvements coming\n",
       "2       @CSmithson80 @heydave7 @BLKMDL3 @mims This cha...\n",
       "3       @BLKMDL3 @mims Predicting macroeconomics is ch...\n",
       "4       @mims If history is any guide, not many will m...\n",
       "                              ...                        \n",
       "3110    @flcnhvy Tesla is responsible for 2/3 of all t...\n",
       "3111    So proud of the Tesla team for achieving this ...\n",
       "3112    @newscientist Um, we have giant fusion reactor...\n",
       "3113    @comma_ai Tesla Full Self-Driving will work at...\n",
       "3114    @PPathole Dojo isn’t needed, but will make sel...\n",
       "Name: tweet, Length: 3115, dtype: object"
      ]
     },
     "execution_count": 8,
     "metadata": {},
     "output_type": "execute_result"
    }
   ],
   "source": [
    "_1[\"tweet\"]"
   ]
  },
  {
   "cell_type": "code",
   "execution_count": 2,
   "metadata": {
    "pycharm": {
     "name": "#%%\n"
    }
   },
   "outputs": [
    {
     "name": "stdout",
     "output_type": "stream",
     "text": [
      "tensor([[0.1295, 0.1723, 0.3681],\n",
      "        [0.6684, 0.8134, 0.4154],\n",
      "        [0.8720, 0.1418, 0.5385],\n",
      "        [0.2910, 0.4324, 0.1972],\n",
      "        [0.6502, 0.4211, 0.4506]])\n"
     ]
    }
   ],
   "source": [
    "import torch\n",
    "x = torch.rand(5, 3)\n",
    "print(x)"
   ]
  },
  {
   "cell_type": "code",
   "execution_count": null,
   "metadata": {
    "pycharm": {
     "name": "#%%\n"
    }
   },
   "outputs": [],
   "source": []
  }
 ],
 "metadata": {
  "interpreter": {
   "hash": "fb9ea304ca68fbfc19affe805a8a9d4b603c52f992c37f77b5b27fb8ddc210fc"
  },
  "kernelspec": {
   "display_name": "Python 3.8.13 ('NLP')",
   "language": "python",
   "name": "python3"
  },
  "language_info": {
   "codemirror_mode": {
    "name": "ipython",
    "version": 3
   },
   "file_extension": ".py",
   "mimetype": "text/x-python",
   "name": "python",
   "nbconvert_exporter": "python",
   "pygments_lexer": "ipython3",
   "version": "3.9.12"
  },
  "orig_nbformat": 4
 },
 "nbformat": 4,
 "nbformat_minor": 2
}